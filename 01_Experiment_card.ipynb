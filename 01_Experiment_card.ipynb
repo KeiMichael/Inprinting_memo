{
 "cells": [
  {
   "cell_type": "code",
   "execution_count": null,
   "id": "76d64c7d",
   "metadata": {},
   "outputs": [],
   "source": [
    "!pip install torch torchvision torchaudio\n",
    "!pip install -e segment_anything\n",
    "!pip install -r lama_requirements_windows.txt\n",
    "#!pip install -r lama/requirements.txt"
   ]
  },
  {
   "cell_type": "code",
   "execution_count": null,
   "id": "af0bb184",
   "metadata": {
    "scrolled": true
   },
   "outputs": [],
   "source": [
    "'''\n",
    "!python remove_anything.py \\\n",
    "    --input_img ./example/remove-anything/dog.jpg \\\n",
    "    --coords_type key_in \\\n",
    "    --point_coords 200 450 \\\n",
    "    --point_labels 1 \\\n",
    "    --dilate_kernel_size 15 \\\n",
    "    --output_dir ./results \\\n",
    "    --sam_model_type \"vit_h\" \\\n",
    "    --sam_ckpt ./pretrained_models/sam_vit_h_4b8939.pth \\\n",
    "    --lama_config ./lama/configs/prediction/default.yaml \\\n",
    "    --lama_ckpt ./pretrained_models/big-lama\n",
    "'''"
   ]
  },
  {
   "cell_type": "code",
   "execution_count": null,
   "id": "f4febf56",
   "metadata": {},
   "outputs": [],
   "source": [
    "!python remove_anything_my_change.py \\\n",
    "    --input_img ./example/card_sample/card_1.jpg \\\n",
    "    --coords_type key_in \\\n",
    "    --point_coords 200 450 \\\n",
    "    --point_labels 1 \\\n",
    "    --dilate_kernel_size 15 \\\n",
    "    --output_dir ./results \\\n",
    "    --sam_model_type \"vit_h\" \\\n",
    "    --sam_ckpt ./pretrained_models/sam_vit_h_4b8939.pth \\\n",
    "    --lama_config ./lama/configs/prediction/default.yaml \\\n",
    "    --lama_ckpt ./pretrained_models/big-lama"
   ]
  },
  {
   "cell_type": "code",
   "execution_count": null,
   "id": "6e23482f",
   "metadata": {},
   "outputs": [],
   "source": []
  }
 ],
 "metadata": {
  "kernelspec": {
   "display_name": "Python 3 (ipykernel)",
   "language": "python",
   "name": "python3"
  },
  "language_info": {
   "codemirror_mode": {
    "name": "ipython",
    "version": 3
   },
   "file_extension": ".py",
   "mimetype": "text/x-python",
   "name": "python",
   "nbconvert_exporter": "python",
   "pygments_lexer": "ipython3",
   "version": "3.9.13"
  }
 },
 "nbformat": 4,
 "nbformat_minor": 5
}
